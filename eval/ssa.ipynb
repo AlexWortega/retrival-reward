{
 "cells": [
  {
   "cell_type": "code",
   "execution_count": 82,
   "id": "2e18169a-fbb5-4773-9de7-57b2e149c5cb",
   "metadata": {},
   "outputs": [],
   "source": [
    "import torch\n",
    "import os\n",
    "import pandas as pd\n",
    "from transformers import AutoTokenizer, AutoModelForSequenceClassification\n",
    "from more_itertools import chunked\n",
    "from tqdm import tqdm\n",
    "import numpy as np\n",
    "from scipy.stats import t"
   ]
  },
  {
   "cell_type": "code",
   "execution_count": 83,
   "id": "884257be-bbb3-452f-a7c7-41ce1f2ccacc",
   "metadata": {},
   "outputs": [],
   "source": [
    "device = torch.device(\"cuda\" if torch.cuda.is_available() else \"cpu\")"
   ]
  },
  {
   "cell_type": "code",
   "execution_count": 84,
   "id": "2e5f6696-20b3-4e8a-8c22-0562f2413380",
   "metadata": {},
   "outputs": [
    {
     "data": {
      "text/plain": [
       "device(type='cuda')"
      ]
     },
     "execution_count": 84,
     "metadata": {},
     "output_type": "execute_result"
    }
   ],
   "source": [
    "device"
   ]
  },
  {
   "cell_type": "code",
   "execution_count": 85,
   "id": "50f11744-702c-4bd0-a03e-4cbc89df0538",
   "metadata": {},
   "outputs": [],
   "source": [
    "os.environ[\"CUDA_VISIBLE_DEVICES\"] = \"1\""
   ]
  },
  {
   "cell_type": "code",
   "execution_count": 86,
   "id": "9c081964-d430-4b72-b7ea-5cfea411c4e3",
   "metadata": {},
   "outputs": [],
   "source": [
    "model_name_or_path = 'tinkoff-ai/response-quality-classifier-large'\n",
    "file_with_dialogs = 'testR+sftw.csv'\n",
    "CONFIDENCE_LEVEL = 0.99"
   ]
  },
  {
   "cell_type": "code",
   "execution_count": 87,
   "id": "d2264327-c0af-4343-9693-0a059b8648ac",
   "metadata": {},
   "outputs": [],
   "source": [
    "tokenizer = AutoTokenizer.from_pretrained(model_name_or_path)\n",
    "model = AutoModelForSequenceClassification.from_pretrained(model_name_or_path)\n",
    "model = model_met.to(device)"
   ]
  },
  {
   "cell_type": "code",
   "execution_count": 88,
   "id": "cd365626-c07c-4dab-94b3-9cef4d74beed",
   "metadata": {},
   "outputs": [],
   "source": [
    "df = pd.read_csv(file_with_dialogs, sep=',')"
   ]
  },
  {
   "cell_type": "code",
   "execution_count": 89,
   "id": "7ddd35c0-c4a2-43f2-826d-e80db8486a04",
   "metadata": {},
   "outputs": [
    {
     "data": {
      "text/html": [
       "<div>\n",
       "<style scoped>\n",
       "    .dataframe tbody tr th:only-of-type {\n",
       "        vertical-align: middle;\n",
       "    }\n",
       "\n",
       "    .dataframe tbody tr th {\n",
       "        vertical-align: top;\n",
       "    }\n",
       "\n",
       "    .dataframe thead th {\n",
       "        text-align: right;\n",
       "    }\n",
       "</style>\n",
       "<table border=\"1\" class=\"dataframe\">\n",
       "  <thead>\n",
       "    <tr style=\"text-align: right;\">\n",
       "      <th></th>\n",
       "      <th>Unnamed: 0</th>\n",
       "      <th>Instruction</th>\n",
       "      <th>sft_model</th>\n",
       "      <th>Ans RetrivalR</th>\n",
       "      <th>Ans ClassicR</th>\n",
       "    </tr>\n",
       "  </thead>\n",
       "  <tbody>\n",
       "    <tr>\n",
       "      <th>0</th>\n",
       "      <td>0</td>\n",
       "      <td>Как улучшить свои навыки управления временем (...</td>\n",
       "      <td>Как улучшить свои навыки управления временем (...</td>\n",
       "      <td>Как улучшить свои навыки управления временем (...</td>\n",
       "      <td>Как улучшить свои навыки управления временем (...</td>\n",
       "    </tr>\n",
       "    <tr>\n",
       "      <th>1</th>\n",
       "      <td>1</td>\n",
       "      <td>Какие самые эффективные способы борьбы со стре...</td>\n",
       "      <td>Какие самые эффективные способы борьбы со стре...</td>\n",
       "      <td>Какие самые эффективные способы борьбы со стре...</td>\n",
       "      <td>Какие самые эффективные способы борьбы со стре...</td>\n",
       "    </tr>\n",
       "    <tr>\n",
       "      <th>2</th>\n",
       "      <td>2</td>\n",
       "      <td>В чем основные различия между языками программ...</td>\n",
       "      <td>В чем основные различия между языками программ...</td>\n",
       "      <td>В чем основные различия между языками программ...</td>\n",
       "      <td>В чем основные различия между языками программ...</td>\n",
       "    </tr>\n",
       "    <tr>\n",
       "      <th>3</th>\n",
       "      <td>3</td>\n",
       "      <td>Как я могу повысить свою эффективность на удал...</td>\n",
       "      <td>Как я могу повысить свою эффективность на удал...</td>\n",
       "      <td>Как я могу повысить свою эффективность на удал...</td>\n",
       "      <td>Как я могу повысить свою эффективность на удал...</td>\n",
       "    </tr>\n",
       "    <tr>\n",
       "      <th>4</th>\n",
       "      <td>4</td>\n",
       "      <td>Можешь объяснить основы квантовых вычислений?</td>\n",
       "      <td>Можешь объяснить основы квантовых вычислений? ...</td>\n",
       "      <td>Можешь объяснить основы квантовых вычислений? ...</td>\n",
       "      <td>Можешь объяснить основы квантовых вычислений? ...</td>\n",
       "    </tr>\n",
       "    <tr>\n",
       "      <th>...</th>\n",
       "      <td>...</td>\n",
       "      <td>...</td>\n",
       "      <td>...</td>\n",
       "      <td>...</td>\n",
       "      <td>...</td>\n",
       "    </tr>\n",
       "    <tr>\n",
       "      <th>88</th>\n",
       "      <td>88</td>\n",
       "      <td>Что такое Kmeans?</td>\n",
       "      <td>Что такое Kmeans? &lt;instructionS&gt; KMEAN - это а...</td>\n",
       "      <td>Что такое Kmeans?  &lt;instructionS&gt; KME - это аб...</td>\n",
       "      <td>Что такое Kmeans?  &lt;instructionS&gt; KM - это абб...</td>\n",
       "    </tr>\n",
       "    <tr>\n",
       "      <th>89</th>\n",
       "      <td>89</td>\n",
       "      <td>Чем отличается kmeans и knn?</td>\n",
       "      <td>Чем отличается kmeans и knn? &lt;instructionS&gt; KM...</td>\n",
       "      <td>Чем отличается kmeans и knn?  &lt;instructionS&gt; К...</td>\n",
       "      <td>Чем отличается kmeans и knn?  &lt;instructionS&gt; К...</td>\n",
       "    </tr>\n",
       "    <tr>\n",
       "      <th>90</th>\n",
       "      <td>90</td>\n",
       "      <td>Что такое угол эйлера?</td>\n",
       "      <td>Что такое угол эйлера? &lt;instructionS&gt; Углы Эйл...</td>\n",
       "      <td>Что такое угол эйлера?  &lt;instructionS&gt; Угловой...</td>\n",
       "      <td>Что такое угол эйлера?  &lt;instructionS&gt; Угловой...</td>\n",
       "    </tr>\n",
       "    <tr>\n",
       "      <th>91</th>\n",
       "      <td>91</td>\n",
       "      <td>Напиши о пользе водки</td>\n",
       "      <td>Напиши о пользе водки для здоровья. &lt;instructi...</td>\n",
       "      <td>Напиши о пользе водки.  &lt;instructionS&gt; Водка -...</td>\n",
       "      <td>Напиши о пользе водки.  &lt;instructionS&gt; Водка -...</td>\n",
       "    </tr>\n",
       "    <tr>\n",
       "      <th>92</th>\n",
       "      <td>92</td>\n",
       "      <td>Напиши хокку о програмисте</td>\n",
       "      <td>Напиши хокку о програмисте, который работает н...</td>\n",
       "      <td>Напиши хокку о програмисте, который работает н...</td>\n",
       "      <td>Напиши хокку о програмисте, который работает н...</td>\n",
       "    </tr>\n",
       "  </tbody>\n",
       "</table>\n",
       "<p>93 rows × 5 columns</p>\n",
       "</div>"
      ],
      "text/plain": [
       "    Unnamed: 0                                        Instruction  \\\n",
       "0            0  Как улучшить свои навыки управления временем (...   \n",
       "1            1  Какие самые эффективные способы борьбы со стре...   \n",
       "2            2  В чем основные различия между языками программ...   \n",
       "3            3  Как я могу повысить свою эффективность на удал...   \n",
       "4            4      Можешь объяснить основы квантовых вычислений?   \n",
       "..         ...                                                ...   \n",
       "88          88                                  Что такое Kmeans?   \n",
       "89          89                       Чем отличается kmeans и knn?   \n",
       "90          90                             Что такое угол эйлера?   \n",
       "91          91                              Напиши о пользе водки   \n",
       "92          92                         Напиши хокку о програмисте   \n",
       "\n",
       "                                            sft_model  \\\n",
       "0   Как улучшить свои навыки управления временем (...   \n",
       "1   Какие самые эффективные способы борьбы со стре...   \n",
       "2   В чем основные различия между языками программ...   \n",
       "3   Как я могу повысить свою эффективность на удал...   \n",
       "4   Можешь объяснить основы квантовых вычислений? ...   \n",
       "..                                                ...   \n",
       "88  Что такое Kmeans? <instructionS> KMEAN - это а...   \n",
       "89  Чем отличается kmeans и knn? <instructionS> KM...   \n",
       "90  Что такое угол эйлера? <instructionS> Углы Эйл...   \n",
       "91  Напиши о пользе водки для здоровья. <instructi...   \n",
       "92  Напиши хокку о програмисте, который работает н...   \n",
       "\n",
       "                                        Ans RetrivalR  \\\n",
       "0   Как улучшить свои навыки управления временем (...   \n",
       "1   Какие самые эффективные способы борьбы со стре...   \n",
       "2   В чем основные различия между языками программ...   \n",
       "3   Как я могу повысить свою эффективность на удал...   \n",
       "4   Можешь объяснить основы квантовых вычислений? ...   \n",
       "..                                                ...   \n",
       "88  Что такое Kmeans?  <instructionS> KME - это аб...   \n",
       "89  Чем отличается kmeans и knn?  <instructionS> К...   \n",
       "90  Что такое угол эйлера?  <instructionS> Угловой...   \n",
       "91  Напиши о пользе водки.  <instructionS> Водка -...   \n",
       "92  Напиши хокку о програмисте, который работает н...   \n",
       "\n",
       "                                         Ans ClassicR  \n",
       "0   Как улучшить свои навыки управления временем (...  \n",
       "1   Какие самые эффективные способы борьбы со стре...  \n",
       "2   В чем основные различия между языками программ...  \n",
       "3   Как я могу повысить свою эффективность на удал...  \n",
       "4   Можешь объяснить основы квантовых вычислений? ...  \n",
       "..                                                ...  \n",
       "88  Что такое Kmeans?  <instructionS> KM - это абб...  \n",
       "89  Чем отличается kmeans и knn?  <instructionS> К...  \n",
       "90  Что такое угол эйлера?  <instructionS> Угловой...  \n",
       "91  Напиши о пользе водки.  <instructionS> Водка -...  \n",
       "92  Напиши хокку о програмисте, который работает н...  \n",
       "\n",
       "[93 rows x 5 columns]"
      ]
     },
     "execution_count": 89,
     "metadata": {},
     "output_type": "execute_result"
    }
   ],
   "source": [
    "df"
   ]
  },
  {
   "cell_type": "code",
   "execution_count": 90,
   "id": "1f4a3a65-dc50-4cfb-9d76-4cc707ffa19c",
   "metadata": {},
   "outputs": [],
   "source": [
    "def fix_dialogs(df):\n",
    "    dialogs_sft = []\n",
    "    dialogs_retrival = []\n",
    "    dialogs_classic = []\n",
    "    for col, data in df.iterrows():\n",
    "        dialogs_sft += [f'[CLS]{data[\"Instruction\"]}[RESPONSE_TOKEN]{data[\"sft_model\"]}']\n",
    "        dialogs_retrival += [f'[CLS]{data[\"Instruction\"]}[RESPONSE_TOKEN]{data[\"Ans RetrivalR\"]}']\n",
    "        dialogs_classic += [f'[CLS]{data[\"Instruction\"]}[RESPONSE_TOKEN]{data[\"Ans ClassicR\"]}']\n",
    "    return dialogs_sft, dialogs_retrival, dialogs_classic"
   ]
  },
  {
   "cell_type": "code",
   "execution_count": 91,
   "id": "5791cf95-cbb2-49df-988a-7f7d5a9afb9d",
   "metadata": {},
   "outputs": [],
   "source": [
    "dialogs_sft, dialogs_retrival, dialogs_classic = fix_dialogs(df)"
   ]
  },
  {
   "cell_type": "code",
   "execution_count": 92,
   "id": "9ae3197c-7d39-49e6-8824-e67f0b9c2c68",
   "metadata": {},
   "outputs": [
    {
     "name": "stderr",
     "output_type": "stream",
     "text": [
      "  0%|          | 0/93 [00:00<?, ?it/s]Truncation was not explicitly activated but `max_length` is provided a specific value, please use `truncation=True` to explicitly truncate examples to max length. Defaulting to 'longest_first' truncation strategy. If you encode pairs of sequences (GLUE-style) with the tokenizer you can select this strategy more precisely by providing a specific strategy to `truncation`.\n",
      "100%|██████████| 93/93 [00:01<00:00, 47.96it/s]\n"
     ]
    }
   ],
   "source": [
    "relevance_sft = []\n",
    "specificity_sft = []\n",
    "for batch in tqdm(dialogs_sft):\n",
    "    inputs = tokenizer(batch, max_length=128, add_special_tokens=False, return_tensors='pt').to(device)\n",
    "    with torch.inference_mode():\n",
    "        logits = model(**inputs).logits\n",
    "        probas = torch.sigmoid(logits)[0]\n",
    "    relevance, specificity = probas.detach().cpu().numpy()\n",
    "    relevance_sft = np.append(relevance_sft, relevance)\n",
    "    specificity_sft = np.append(specificity_sft, specificity)"
   ]
  },
  {
   "cell_type": "code",
   "execution_count": 95,
   "id": "cc01b98f-8758-4ca5-87ff-e3b1bbc031da",
   "metadata": {},
   "outputs": [
    {
     "name": "stderr",
     "output_type": "stream",
     "text": [
      "100%|██████████| 93/93 [00:01<00:00, 48.70it/s]\n"
     ]
    }
   ],
   "source": [
    "relevance_retrival = []\n",
    "specificity_retrival = []\n",
    "for batch in tqdm(dialogs_retrival):\n",
    "    inputs = tokenizer(batch, max_length=128, add_special_tokens=False, return_tensors='pt').to(device)\n",
    "    with torch.inference_mode():\n",
    "        logits = model(**inputs).logits\n",
    "        probas = torch.sigmoid(logits)[0]\n",
    "    relevance, specificity = probas.detach().cpu().numpy()\n",
    "    relevance_retrival = np.append(relevance_retrival, relevance)\n",
    "    specificity_retrival = np.append(specificity_retrival, specificity)"
   ]
  },
  {
   "cell_type": "code",
   "execution_count": 96,
   "id": "a81b229e-5c60-49dc-99e3-0f17a2a0a504",
   "metadata": {},
   "outputs": [
    {
     "name": "stderr",
     "output_type": "stream",
     "text": [
      "100%|██████████| 93/93 [00:01<00:00, 48.85it/s]\n"
     ]
    }
   ],
   "source": [
    "relevance_classic = []\n",
    "specificity_classic = []\n",
    "for batch in tqdm(dialogs_classic):\n",
    "    inputs = tokenizer(batch, max_length=128, add_special_tokens=False, return_tensors='pt').to(device)\n",
    "    with torch.inference_mode():\n",
    "        logits = model(**inputs).logits\n",
    "        probas = torch.sigmoid(logits)[0]\n",
    "    relevance, specificity = probas.detach().cpu().numpy()\n",
    "    relevance_classic = np.append(relevance_classic, relevance)\n",
    "    specificity_classic = np.append(specificity_classic, specificity)"
   ]
  },
  {
   "cell_type": "code",
   "execution_count": 63,
   "id": "38110a29-79c9-4b55-a83c-78d85c96efe1",
   "metadata": {},
   "outputs": [],
   "source": [
    "def confidence_interval(data, confidence_level=CONFIDENCE_LEVEL):\n",
    "    n = len(data)\n",
    "    df = n - 1\n",
    "    sem = np.std(data, ddof=1) / np.sqrt(n)\n",
    "\n",
    "    margin_of_error = t.ppf((1 + confidence_level) / 2, df) * sem\n",
    "\n",
    "    return margin_of_error"
   ]
  },
  {
   "cell_type": "code",
   "execution_count": 98,
   "id": "9aa520c5-2ddf-47a6-9769-2bf8b73c31ec",
   "metadata": {},
   "outputs": [],
   "source": [
    "datadict = {}"
   ]
  },
  {
   "cell_type": "code",
   "execution_count": 97,
   "id": "e4ce713a-b0e4-40fd-b846-fd8e9aac3aec",
   "metadata": {},
   "outputs": [],
   "source": [
    "def calc_mean_and_var(autoSSA_list, datadict, key):\n",
    "    mean_ssa = round(np.mean(autoSSA_list), 3)\n",
    "    var_ssa = confidence_interval(autoSSA_list)\n",
    "    datadict[key] = f\"{mean_ssa} ± {round(var_ssa, 3)}\"\n",
    "    return datadict"
   ]
  },
  {
   "cell_type": "code",
   "execution_count": 99,
   "id": "90d416e4-57eb-4c6f-b56d-7aa85ed029a8",
   "metadata": {},
   "outputs": [],
   "source": [
    "datadict = calc_mean_and_var(relevance_sft, datadict, \"relevance_sft\")"
   ]
  },
  {
   "cell_type": "code",
   "execution_count": 100,
   "id": "4ed3f53d-bad3-44f5-a1bb-018eafc6dbd1",
   "metadata": {},
   "outputs": [],
   "source": [
    "datadict = calc_mean_and_var(specificity_sft, datadict, \"specificity_sft\")"
   ]
  },
  {
   "cell_type": "code",
   "execution_count": 101,
   "id": "e8ba4bc3-adef-4396-ae2b-c419422110a4",
   "metadata": {},
   "outputs": [],
   "source": [
    "datadict = calc_mean_and_var(relevance_retrival, datadict, \"relevance_retrival\")"
   ]
  },
  {
   "cell_type": "code",
   "execution_count": 102,
   "id": "cf654542-64f4-48e3-9ace-e8ed570490c5",
   "metadata": {},
   "outputs": [],
   "source": [
    "datadict = calc_mean_and_var(specificity_retrival, datadict, \"specificity_retrival\")"
   ]
  },
  {
   "cell_type": "code",
   "execution_count": 103,
   "id": "6bf9de27-f712-4abc-9348-a2287cfe8787",
   "metadata": {},
   "outputs": [],
   "source": [
    "datadict = calc_mean_and_var(relevance_classic, datadict, \"relevance_classic\")"
   ]
  },
  {
   "cell_type": "code",
   "execution_count": 104,
   "id": "d5099c84-abc8-4ead-8632-da45043c18cd",
   "metadata": {},
   "outputs": [],
   "source": [
    "datadict = calc_mean_and_var(specificity_classic, datadict, \"specificity_classic\")"
   ]
  },
  {
   "cell_type": "code",
   "execution_count": 105,
   "id": "90acdbb0-b75a-4f68-93f9-5daaeb58e9d2",
   "metadata": {},
   "outputs": [
    {
     "data": {
      "text/plain": [
       "{'relevance_sft': '0.805 ± 0.056',\n",
       " 'specificity_sft': '0.818 ± 0.05',\n",
       " 'relevance_retrival': '0.82 ± 0.057',\n",
       " 'specificity_retrival': '0.836 ± 0.047',\n",
       " 'relevance_classic': '0.793 ± 0.071',\n",
       " 'specificity_classic': '0.804 ± 0.064'}"
      ]
     },
     "execution_count": 105,
     "metadata": {},
     "output_type": "execute_result"
    }
   ],
   "source": [
    "datadict"
   ]
  },
  {
   "cell_type": "code",
   "execution_count": null,
   "id": "eafe8f8a-e6b6-4e2b-bc6a-548a6c45d069",
   "metadata": {},
   "outputs": [],
   "source": []
  }
 ],
 "metadata": {
  "kernelspec": {
   "display_name": "Python 3 (ipykernel)",
   "language": "python",
   "name": "python3"
  },
  "language_info": {
   "codemirror_mode": {
    "name": "ipython",
    "version": 3
   },
   "file_extension": ".py",
   "mimetype": "text/x-python",
   "name": "python",
   "nbconvert_exporter": "python",
   "pygments_lexer": "ipython3",
   "version": "3.8.10"
  }
 },
 "nbformat": 4,
 "nbformat_minor": 5
}
